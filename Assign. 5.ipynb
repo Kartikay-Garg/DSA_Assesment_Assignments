{
 "cells": [
  {
   "cell_type": "markdown",
   "id": "76fa9d08-dca6-4ae3-99cc-7cfab5f637fc",
   "metadata": {},
   "source": [
    "<aside>\n",
    "💡 **Question 1**\n",
    "\n",
    "Convert 1D Array Into 2D Array\n",
    "\n",
    "You are given a **0-indexed** 1-dimensional (1D) integer array original, and two integers, m and n. You are tasked with creating a 2-dimensional (2D) array with  m rows and n columns using **all** the elements from original.\n",
    "\n",
    "The elements from indices 0 to n - 1 (**inclusive**) of original should form the first row of the constructed 2D array, the elements from indices n to 2 * n - 1 (**inclusive**) should form the second row of the constructed 2D array, and so on.\n",
    "\n",
    "Return *an* m x n *2D array constructed according to the above procedure, or an empty 2D array if it is impossible*.\n",
    "\n",
    "**Example 1:**\n",
    "\n",
    "**Input:** original = [1,2,3,4], m = 2, n = 2\n",
    "\n",
    "**Output:** [[1,2],[3,4]]\n",
    "\n",
    "**Explanation:** The constructed 2D array should contain 2 rows and 2 columns.\n",
    "\n",
    "The first group of n=2 elements in original, [1,2], becomes the first row in the constructed 2D array.\n",
    "\n",
    "The second group of n=2 elements in original, [3,4], becomes the second row in the constructed 2D array.\n",
    "\n",
    "</aside>"
   ]
  },
  {
   "cell_type": "code",
   "execution_count": 1,
   "id": "e8354428-1a7e-4830-96b5-c093663d45a7",
   "metadata": {},
   "outputs": [
    {
     "name": "stdout",
     "output_type": "stream",
     "text": [
      "[[1, 2], [3, 4]]\n"
     ]
    }
   ],
   "source": [
    "def convert_to_2d_array(original, m, n):\n",
    "    length = len(original)\n",
    "    if length != m * n:\n",
    "        return []\n",
    "    \n",
    "    result = [original[i:i+n] for i in range(0, length, n)]\n",
    "    \n",
    "    return result\n",
    "\n",
    "# DRIVER CODE\n",
    "original = [1, 2, 3, 4]\n",
    "m = 2\n",
    "n = 2\n",
    "print(convert_to_2d_array(original, m, n))"
   ]
  },
  {
   "cell_type": "markdown",
   "id": "0bc5cb4b-4eeb-4b9d-b7f7-45636324612c",
   "metadata": {},
   "source": [
    "<aside>\n",
    "💡 **Question 2**\n",
    "\n",
    "You have n coins and you want to build a staircase with these coins. The staircase consists of k rows where the ith row has exactly i coins. The last row of the staircase **may be** incomplete.\n",
    "\n",
    "Given the integer n, return *the number of **complete rows** of the staircase you will build*.\n",
    "\n",
    "**Example 1:**\n",
    "\n",
    "**Input:** n = 5\n",
    "\n",
    "**Output:** 2\n",
    "\n",
    "**Explanation:** Because the 3rd row is incomplete, we return 2.\n",
    "\n",
    "</aside>"
   ]
  },
  {
   "cell_type": "code",
   "execution_count": 2,
   "id": "601876d2-6c71-43d1-b097-f35d4a0da4e9",
   "metadata": {},
   "outputs": [
    {
     "name": "stdout",
     "output_type": "stream",
     "text": [
      "2\n"
     ]
    }
   ],
   "source": [
    "import math\n",
    "\n",
    "def arrangeCoins(n):\n",
    "    k = math.floor((-1 + math.sqrt(1 + 8 * n)) / 2)\n",
    "    return k\n",
    "\n",
    "# DRIVER CODE\n",
    "n = 5\n",
    "print(arrangeCoins(n))"
   ]
  },
  {
   "cell_type": "markdown",
   "id": "ad54743b-355e-42df-bd51-32f402e941a3",
   "metadata": {},
   "source": [
    "<aside>\n",
    "💡 **Question 3**\n",
    "\n",
    "Given an integer array nums sorted in **non-decreasing** order, return *an array of **the squares of each number** sorted in non-decreasing order*.\n",
    "\n",
    "**Example 1:**\n",
    "\n",
    "**Input:** nums = [-4,-1,0,3,10]\n",
    "\n",
    "**Output:** [0,1,9,16,100]\n",
    "\n",
    "**Explanation:** After squaring, the array becomes [16,1,0,9,100].\n",
    "\n",
    "After sorting, it becomes [0,1,9,16,100].\n",
    "\n",
    "</aside>"
   ]
  },
  {
   "cell_type": "code",
   "execution_count": 3,
   "id": "e23d31be-1d50-4839-a266-43c210ec4df7",
   "metadata": {},
   "outputs": [
    {
     "name": "stdout",
     "output_type": "stream",
     "text": [
      "[0, 1, 9, 16, 100]\n"
     ]
    }
   ],
   "source": [
    "def sortedSquares(nums):\n",
    "    n = len(nums)\n",
    "    result = [0] * n\n",
    "    left = 0\n",
    "    right = n - 1\n",
    "    \n",
    "    for i in range(n - 1, -1, -1):\n",
    "        if nums[left] ** 2 >= nums[right] ** 2:\n",
    "            result[i] = nums[left] ** 2\n",
    "            left += 1\n",
    "        else:\n",
    "            result[i] = nums[right] ** 2\n",
    "            right -= 1\n",
    "    \n",
    "    return result\n",
    "\n",
    "# DRIVER CODE\n",
    "nums = [-4, -1, 0, 3, 10]\n",
    "print(sortedSquares(nums))"
   ]
  },
  {
   "cell_type": "markdown",
   "id": "4a9f9a4b-61ad-4888-be1c-84ea0675a48d",
   "metadata": {},
   "source": [
    "<aside>\n",
    "💡 **Question 4**\n",
    "\n",
    "Given two **0-indexed** integer arrays nums1 and nums2, return *a list* answer *of size* 2 *where:*\n",
    "\n",
    "- answer[0] *is a list of all **distinct** integers in* nums1 *which are **not** present in* nums2*.*\n",
    "- answer[1] *is a list of all **distinct** integers in* nums2 *which are **not** present in* nums1.\n",
    "\n",
    "**Note** that the integers in the lists may be returned in **any** order.\n",
    "\n",
    "**Example 1:**\n",
    "\n",
    "**Input:** nums1 = [1,2,3], nums2 = [2,4,6]\n",
    "\n",
    "**Output:** [[1,3],[4,6]]\n",
    "\n",
    "**Explanation:**\n",
    "\n",
    "For nums1, nums1[1] = 2 is present at index 0 of nums2, whereas nums1[0] = 1 and nums1[2] = 3 are not present in nums2. Therefore, answer[0] = [1,3].\n",
    "\n",
    "For nums2, nums2[0] = 2 is present at index 1 of nums1, whereas nums2[1] = 4 and nums2[2] = 6 are not present in nums2. Therefore, answer[1] = [4,6].\n",
    "\n",
    "</aside>"
   ]
  },
  {
   "cell_type": "code",
   "execution_count": 4,
   "id": "4814f688-ee01-4a23-a6ff-41527e3871bb",
   "metadata": {},
   "outputs": [
    {
     "name": "stdout",
     "output_type": "stream",
     "text": [
      "[[1, 3], [4, 6]]\n"
     ]
    }
   ],
   "source": [
    "def findDisjoint(nums1, nums2):\n",
    "    distinct_nums1 = []\n",
    "    distinct_nums2 = []\n",
    "    i = 0\n",
    "    j = 0\n",
    "    \n",
    "    while i < len(nums1) and j < len(nums2):\n",
    "        if nums1[i] < nums2[j]:\n",
    "            distinct_nums1.append(nums1[i])\n",
    "            i += 1\n",
    "        elif nums1[i] > nums2[j]:\n",
    "            distinct_nums2.append(nums2[j])\n",
    "            j += 1\n",
    "        else:\n",
    "            i += 1\n",
    "            j += 1\n",
    "    \n",
    "    while i < len(nums1):\n",
    "        distinct_nums1.append(nums1[i])\n",
    "        i += 1\n",
    "    \n",
    "    while j < len(nums2):\n",
    "        distinct_nums2.append(nums2[j])\n",
    "        j += 1\n",
    "    \n",
    "    return [distinct_nums1, distinct_nums2]\n",
    "\n",
    "# DRIVER CODE\n",
    "nums1 = [1, 2, 3]\n",
    "nums2 = [2, 4, 6]\n",
    "print(findDisjoint(nums1, nums2))"
   ]
  },
  {
   "cell_type": "markdown",
   "id": "9180d13f-c0c0-44f9-b389-4bb383f681cf",
   "metadata": {},
   "source": [
    "<aside>\n",
    "💡 **Question 5**\n",
    "\n",
    "Given two integer arrays arr1 and arr2, and the integer d, *return the distance value between the two arrays*.\n",
    "\n",
    "The distance value is defined as the number of elements arr1[i] such that there is not any element arr2[j] where |arr1[i]-arr2[j]| <= d.\n",
    "\n",
    "**Example 1:**\n",
    "\n",
    "**Input:** arr1 = [4,5,8], arr2 = [10,9,1,8], d = 2\n",
    "\n",
    "**Output:** 2\n",
    "\n",
    "**Explanation:**\n",
    "\n",
    "For arr1[0]=4 we have:\n",
    "\n",
    "|4-10|=6 > d=2\n",
    "\n",
    "|4-9|=5 > d=2\n",
    "\n",
    "|4-1|=3 > d=2\n",
    "\n",
    "|4-8|=4 > d=2\n",
    "\n",
    "For arr1[1]=5 we have:\n",
    "\n",
    "|5-10|=5 > d=2\n",
    "\n",
    "|5-9|=4 > d=2\n",
    "\n",
    "|5-1|=4 > d=2\n",
    "\n",
    "|5-8|=3 > d=2\n",
    "\n",
    "For arr1[2]=8 we have:\n",
    "\n",
    "**|8-10|=2 <= d=2**\n",
    "\n",
    "**|8-9|=1 <= d=2**\n",
    "\n",
    "|8-1|=7 > d=2\n",
    "\n",
    "**|8-8|=0 <= d=2**\n",
    "\n",
    "</aside>"
   ]
  },
  {
   "cell_type": "code",
   "execution_count": 5,
   "id": "e64ae378-457b-4601-9eae-b7c87887ed7f",
   "metadata": {},
   "outputs": [
    {
     "name": "stdout",
     "output_type": "stream",
     "text": [
      "2\n"
     ]
    }
   ],
   "source": [
    "def findTheDistanceValue(arr1, arr2, d):\n",
    "    distance = 0\n",
    "\n",
    "    for num1 in arr1:\n",
    "        for num2 in arr2:\n",
    "            if abs(num1 - num2) <= d:\n",
    "                break\n",
    "        else:\n",
    "            distance += 1\n",
    "\n",
    "    return distance\n",
    "\n",
    "# DRIVER CODE\n",
    "arr1 = [4, 5, 8]\n",
    "arr2 = [10, 9, 1, 8]\n",
    "d = 2\n",
    "print(findTheDistanceValue(arr1, arr2, d))"
   ]
  },
  {
   "cell_type": "markdown",
   "id": "b90bb771-9c45-4090-b47f-dd8fed2c379a",
   "metadata": {},
   "source": [
    "<aside>\n",
    "💡 **Question 6**\n",
    "\n",
    "Given an integer array nums of length n where all the integers of nums are in the range [1, n] and each integer appears **once** or **twice**, return *an array of all the integers that appears **twice***.\n",
    "\n",
    "You must write an algorithm that runs in O(n) time and uses only constant extra space.\n",
    "\n",
    "**Example 1:**\n",
    "\n",
    "**Input:** nums = [4,3,2,7,8,2,3,1]\n",
    "\n",
    "**Output:**\n",
    "\n",
    "[2,3]\n",
    "\n",
    "</aside>"
   ]
  },
  {
   "cell_type": "code",
   "execution_count": 6,
   "id": "7c66c398-c631-4a74-bc1e-7b1d11e04264",
   "metadata": {},
   "outputs": [
    {
     "name": "stdout",
     "output_type": "stream",
     "text": [
      "[2, 3]\n"
     ]
    }
   ],
   "source": [
    "def findDuplicates(nums):\n",
    "    result = []\n",
    "\n",
    "    for num in nums:\n",
    "        index = abs(num) - 1\n",
    "        if nums[index] < 0:\n",
    "            result.append(abs(num))\n",
    "        else:\n",
    "            nums[index] *= -1\n",
    "\n",
    "    return result\n",
    "\n",
    "# DRIVER CODE\n",
    "nums = [4, 3, 2, 7, 8, 2, 3, 1]\n",
    "print(findDuplicates(nums))"
   ]
  },
  {
   "cell_type": "markdown",
   "id": "11d6290b-4258-4a58-9768-bcf15033ce7d",
   "metadata": {},
   "source": [
    "<aside>\n",
    "💡 **Question 7**\n",
    "\n",
    "Suppose an array of length n sorted in ascending order is **rotated** between 1 and n times. For example, the array nums = [0,1,2,4,5,6,7] might become:\n",
    "\n",
    "- [4,5,6,7,0,1,2] if it was rotated 4 times.\n",
    "- [0,1,2,4,5,6,7] if it was rotated 7 times.\n",
    "\n",
    "Notice that **rotating** an array [a[0], a[1], a[2], ..., a[n-1]] 1 time results in the array [a[n-1], a[0], a[1], a[2], ..., a[n-2]].\n",
    "\n",
    "Given the sorted rotated array nums of **unique** elements, return *the minimum element of this array*.\n",
    "\n",
    "You must write an algorithm that runs in O(log n) time.\n",
    "\n",
    "**Example 1:**\n",
    "\n",
    "**Input:** nums = [3,4,5,1,2]\n",
    "\n",
    "**Output:** 1\n",
    "\n",
    "**Explanation:**\n",
    "\n",
    "The original array was [1,2,3,4,5] rotated 3 times.\n",
    "\n",
    "</aside>"
   ]
  },
  {
   "cell_type": "code",
   "execution_count": 7,
   "id": "dfacd6ff-988a-4204-9afa-2fd68f4b8637",
   "metadata": {},
   "outputs": [
    {
     "name": "stdout",
     "output_type": "stream",
     "text": [
      "1\n"
     ]
    }
   ],
   "source": [
    "def findMin(nums):\n",
    "    left, right = 0, len(nums) - 1\n",
    "\n",
    "    while left < right:\n",
    "        mid = (left + right) // 2\n",
    "\n",
    "        if nums[mid] > nums[right]:\n",
    "            left = mid + 1\n",
    "        else:\n",
    "            right = mid\n",
    "\n",
    "    return nums[left]\n",
    "\n",
    "# DRIVER CODE\n",
    "nums = [3, 4, 5, 1, 2]\n",
    "print(findMin(nums))"
   ]
  },
  {
   "cell_type": "markdown",
   "id": "122688d3-4148-4759-bec4-27928f17fffd",
   "metadata": {},
   "source": [
    "<aside>\n",
    "💡 **Question 8**\n",
    "\n",
    "An integer array original is transformed into a **doubled** array changed by appending **twice the value** of every element in original, and then randomly **shuffling** the resulting array.\n",
    "\n",
    "Given an array changed, return original *if* changed *is a **doubled** array. If* changed *is not a **doubled** array, return an empty array. The elements in* original *may be returned in **any** order*.\n",
    "\n",
    "**Example 1:**\n",
    "\n",
    "**Input:** changed = [1,3,4,2,6,8]\n",
    "\n",
    "**Output:** [1,3,4]\n",
    "\n",
    "**Explanation:** One possible original array could be [1,3,4]:\n",
    "\n",
    "- Twice the value of 1 is 1 * 2 = 2.\n",
    "- Twice the value of 3 is 3 * 2 = 6.\n",
    "- Twice the value of 4 is 4 * 2 = 8.\n",
    "\n",
    "Other original arrays could be [4,3,1] or [3,1,4].\n",
    "\n",
    "</aside>"
   ]
  },
  {
   "cell_type": "code",
   "execution_count": 9,
   "id": "135ffc6d-fd20-4ab1-b91f-e671be2370f5",
   "metadata": {},
   "outputs": [],
   "source": [
    "def findOriginalArray(changed):\n",
    "    if len(changed) % 2 != 0:\n",
    "        return []  # If the length of the changed array is odd, it can't be a doubled array\n",
    "\n",
    "    count = {}\n",
    "    changed.sort()\n",
    "\n",
    "    for num in changed:\n",
    "        if num not in count:\n",
    "            count[num] = 0\n",
    "        count[num] += 1\n",
    "\n",
    "    original = []\n",
    "\n",
    "    for num in changed:\n",
    "        if num not in count or count[num] == 0:\n",
    "            continue\n",
    "        count[num] -= 1\n",
    "        if 2 * num not in count or count[2 * num] == 0:\n",
    "            return []\n",
    "        count[2 * num] -= 1\n",
    "        original.append(num)\n",
    "\n",
    "    return original\n"
   ]
  },
  {
   "cell_type": "code",
   "execution_count": 10,
   "id": "068af191-3717-4003-a49c-67121678b0a4",
   "metadata": {},
   "outputs": [
    {
     "name": "stdout",
     "output_type": "stream",
     "text": [
      "[1, 3, 4]\n"
     ]
    }
   ],
   "source": [
    "changed = [1, 3, 4, 2, 6, 8]\n",
    "print(findOriginalArray(changed))"
   ]
  }
 ],
 "metadata": {
  "kernelspec": {
   "display_name": "Python 3 (ipykernel)",
   "language": "python",
   "name": "python3"
  },
  "language_info": {
   "codemirror_mode": {
    "name": "ipython",
    "version": 3
   },
   "file_extension": ".py",
   "mimetype": "text/x-python",
   "name": "python",
   "nbconvert_exporter": "python",
   "pygments_lexer": "ipython3",
   "version": "3.10.6"
  }
 },
 "nbformat": 4,
 "nbformat_minor": 5
}
