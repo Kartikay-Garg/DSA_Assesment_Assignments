{
 "cells": [
  {
   "cell_type": "markdown",
   "id": "7f8f3512-4b7e-44b3-a238-e4af2e4bbe92",
   "metadata": {},
   "source": [
    "<aside>\n",
    "💡 **Question 1**\n",
    "\n",
    "A permutation perm of n + 1 integers of all the integers in the range [0, n] can be represented as a string s of length n where:\n",
    "\n",
    "- s[i] == 'I' if perm[i] < perm[i + 1], and\n",
    "- s[i] == 'D' if perm[i] > perm[i + 1].\n",
    "\n",
    "Given a string s, reconstruct the permutation perm and return it. If there are multiple valid permutations perm, return **any of them**.\n",
    "\n",
    "**Example 1:**\n",
    "\n",
    "**Input:** s = \"IDID\"\n",
    "\n",
    "**Output:**\n",
    "\n",
    "[0,4,1,3,2]\n",
    "\n",
    "</aside>"
   ]
  },
  {
   "cell_type": "code",
   "execution_count": 1,
   "id": "c25e0618-c151-4381-95a9-6a8fcf4b15a6",
   "metadata": {},
   "outputs": [
    {
     "name": "stdout",
     "output_type": "stream",
     "text": [
      "[0, 4, 2, 3, 1]\n"
     ]
    }
   ],
   "source": [
    "def reconstruct_permutation(s):\n",
    "    n = len(s)\n",
    "    low, high = 0, n\n",
    "    permutation = []\n",
    "\n",
    "    for ch in s:\n",
    "        if ch == 'I':\n",
    "            permutation.append(low)\n",
    "            low += 1\n",
    "        elif ch == 'D':\n",
    "            permutation.append(high)\n",
    "            high -= 1\n",
    "\n",
    "    permutation.append(low)\n",
    "    permutation[low:] = reversed(permutation[low:])\n",
    "\n",
    "    return permutation\n",
    "s = \"IDID\"\n",
    "print(reconstruct_permutation(s))"
   ]
  },
  {
   "cell_type": "markdown",
   "id": "cfc9306f-76a1-4694-9c2a-c13dce3670bb",
   "metadata": {},
   "source": [
    "<aside>\n",
    "💡 **Question 2**\n",
    "\n",
    "You are given an m x n integer matrix matrix with the following two properties:\n",
    "\n",
    "- Each row is sorted in non-decreasing order.\n",
    "- The first integer of each row is greater than the last integer of the previous row.\n",
    "\n",
    "Given an integer target, return true *if* target *is in* matrix *or* false *otherwise*.\n",
    "\n",
    "You must write a solution in O(log(m * n)) time complexity.\n",
    "\n",
    "**Example 1:**\n",
    "\n",
    "**Input:** matrix = [[1,3,5,7],[10,11,16,20],[23,30,34,60]], target = 3\n",
    "\n",
    "**Output:** true\n",
    "\n",
    "</aside>"
   ]
  },
  {
   "cell_type": "code",
   "execution_count": 2,
   "id": "b0fb5d62-3cca-4998-8a45-100bdb947a2a",
   "metadata": {},
   "outputs": [
    {
     "name": "stdout",
     "output_type": "stream",
     "text": [
      "True\n"
     ]
    }
   ],
   "source": [
    "def search_matrix(matrix, target):\n",
    "    if not matrix or not matrix[0]:\n",
    "        return False\n",
    "\n",
    "    m, n = len(matrix), len(matrix[0])\n",
    "    left, right = 0, m * n - 1\n",
    "\n",
    "    while left <= right:\n",
    "        mid = (left + right) // 2\n",
    "        row = mid // n\n",
    "        col = mid % n\n",
    "        value = matrix[row][col]\n",
    "\n",
    "        if value == target:\n",
    "            return True\n",
    "        elif value < target:\n",
    "            left = mid + 1\n",
    "        else:\n",
    "            right = mid - 1\n",
    "\n",
    "    return False\n",
    "matrix = [[1, 3, 5, 7], [10, 11, 16, 20], [23, 30, 34, 60]]\n",
    "target = 3\n",
    "\n",
    "print(search_matrix(matrix, target))"
   ]
  },
  {
   "cell_type": "markdown",
   "id": "91f62f42-63c9-4a14-bc0a-602bc6093122",
   "metadata": {},
   "source": [
    "<aside>\n",
    "💡 **Question 3**\n",
    "\n",
    "Given an array of integers arr, return *true if and only if it is a valid mountain array*.\n",
    "\n",
    "Recall that arr is a mountain array if and only if:\n",
    "\n",
    "- arr.length >= 3\n",
    "- There exists some i with 0 < i < arr.length - 1 such that:\n",
    "    - arr[0] < arr[1] < ... < arr[i - 1] < arr[i]\n",
    "    - arr[i] > arr[i + 1] > ... > arr[arr.length - 1]\n",
    "\n",
    "**Example 1:**\n",
    "\n",
    "**Input:** arr = [2,1]\n",
    "\n",
    "**Output:**\n",
    "\n",
    "false\n",
    "\n",
    "</aside>"
   ]
  },
  {
   "cell_type": "code",
   "execution_count": 3,
   "id": "517ada9e-54b7-40ac-ab7e-d09648fe7f9f",
   "metadata": {},
   "outputs": [
    {
     "name": "stdout",
     "output_type": "stream",
     "text": [
      "False\n"
     ]
    }
   ],
   "source": [
    "def valid_mountain_array(arr):\n",
    "    n = len(arr)\n",
    "    \n",
    "    if n < 3:\n",
    "        return False\n",
    "    \n",
    "    left, right = 0, n - 1\n",
    "\n",
    "    while left + 1 < n and arr[left] < arr[left + 1]:\n",
    "        left += 1\n",
    "\n",
    "    while right > 0 and arr[right - 1] > arr[right]:\n",
    "        right -= 1\n",
    "\n",
    "    return left == right and left != 0 and right != n - 1\n",
    "arr = [2, 1]\n",
    "print(valid_mountain_array(arr))"
   ]
  },
  {
   "cell_type": "markdown",
   "id": "db0b3235-6edb-4ac7-849c-00d0a255702b",
   "metadata": {},
   "source": [
    "<aside>\n",
    "💡 **Question 4**\n",
    "\n",
    "Given a binary array nums, return *the maximum length of a contiguous subarray with an equal number of* 0 *and* 1.\n",
    "\n",
    "**Example 1:**\n",
    "\n",
    "**Input:** nums = [0,1]\n",
    "\n",
    "**Output:** 2\n",
    "\n",
    "**Explanation:**\n",
    "\n",
    "[0, 1] is the longest contiguous subarray with an equal number of 0 and 1.\n",
    "\n",
    "</aside>"
   ]
  },
  {
   "cell_type": "code",
   "execution_count": 4,
   "id": "7e44d5fc-cb54-4ba9-b149-c98088cf39ae",
   "metadata": {},
   "outputs": [
    {
     "name": "stdout",
     "output_type": "stream",
     "text": [
      "2\n"
     ]
    }
   ],
   "source": [
    "def find_max_length(nums):\n",
    "    max_length = 0\n",
    "    running_sum = 0\n",
    "    sum_map = {0: -1}\n",
    "\n",
    "    for i in range(len(nums)):\n",
    "        running_sum += -1 if nums[i] == 0 else 1\n",
    "\n",
    "        if running_sum in sum_map:\n",
    "            max_length = max(max_length, i - sum_map[running_sum])\n",
    "        else:\n",
    "            sum_map[running_sum] = i\n",
    "\n",
    "    return max_length\n",
    "nums = [0, 1]\n",
    "print(find_max_length(nums))"
   ]
  },
  {
   "cell_type": "markdown",
   "id": "ef1fb72e-af54-4db0-b73c-9254ad51e4f1",
   "metadata": {},
   "source": [
    "<aside>\n",
    "💡 **Question 5**\n",
    "\n",
    "The **product sum** of two equal-length arrays a and b is equal to the sum of a[i] * b[i] for all 0 <= i < a.length (**0-indexed**).\n",
    "\n",
    "- For example, if a = [1,2,3,4] and b = [5,2,3,1], the **product sum** would be 1*5 + 2*2 + 3*3 + 4*1 = 22.\n",
    "\n",
    "Given two arrays nums1 and nums2 of length n, return *the **minimum product sum** if you are allowed to **rearrange** the **order** of the elements in* nums1.\n",
    "\n",
    "**Example 1:**\n",
    "\n",
    "**Input:** nums1 = [5,3,4,2], nums2 = [4,2,2,5]\n",
    "\n",
    "**Output:** 40\n",
    "\n",
    "**Explanation:**\n",
    "\n",
    "We can rearrange nums1 to become [3,5,4,2]. The product sum of [3,5,4,2] and [4,2,2,5] is 3*4 + 5*2 + 4*2 + 2*5 = 40.\n",
    "\n",
    "</aside>"
   ]
  },
  {
   "cell_type": "code",
   "execution_count": 5,
   "id": "5a986c70-a52f-44e6-83b9-365735cf7513",
   "metadata": {},
   "outputs": [
    {
     "name": "stdout",
     "output_type": "stream",
     "text": [
      "132\n"
     ]
    }
   ],
   "source": [
    "def min_product_sum(nums1, nums2):\n",
    "    min_nums1, max_nums1 = float('inf'), float('-inf')\n",
    "    min_nums2, max_nums2 = float('inf'), float('-inf')\n",
    "    product_sum = 0\n",
    "    \n",
    "    for i in range(len(nums1)):\n",
    "        min_nums1 = min(min_nums1, nums1[i])\n",
    "        max_nums1 = max(max_nums1, nums1[i])\n",
    "        min_nums2 = min(min_nums2, nums2[i])\n",
    "        max_nums2 = max(max_nums2, nums2[i])\n",
    "        product_sum += nums1[i] * nums2[i]\n",
    "\n",
    "    return product_sum * max(max_nums1 - min_nums2, min_nums1 - max_nums2)\n",
    "nums1 = [5, 3, 4, 2]\n",
    "nums2 = [4, 2, 2, 5]\n",
    "print(min_product_sum(nums1, nums2))"
   ]
  },
  {
   "cell_type": "markdown",
   "id": "b65c6dc3-c4f3-409f-9987-723ce6a6bd11",
   "metadata": {},
   "source": [
    "<aside>\n",
    "💡 **Question 6**\n",
    "\n",
    "An integer array original is transformed into a **doubled** array changed by appending **twice the value** of every element in original, and then randomly **shuffling** the resulting array.\n",
    "\n",
    "Given an array changed, return original *if* changed *is a **doubled** array. If* changed *is not a **doubled** array, return an empty array. The elements in* original *may be returned in **any** order*.\n",
    "\n",
    "**Example 1:**\n",
    "\n",
    "**Input:** changed = [1,3,4,2,6,8]\n",
    "\n",
    "**Output:** [1,3,4]\n",
    "\n",
    "**Explanation:** One possible original array could be [1,3,4]:\n",
    "\n",
    "- Twice the value of 1 is 1 * 2 = 2.\n",
    "- Twice the value of 3 is 3 * 2 = 6.\n",
    "- Twice the value of 4 is 4 * 2 = 8.\n",
    "\n",
    "Other original arrays could be [4,3,1] or [3,1,4].\n",
    "\n",
    "</aside>"
   ]
  },
  {
   "cell_type": "code",
   "execution_count": 6,
   "id": "bc46cf34-599e-48d5-8c85-4562a8ee8f33",
   "metadata": {},
   "outputs": [],
   "source": [
    "def findOriginalArray(changed):\n",
    "    if len(changed) % 2 != 0:\n",
    "        return []  # If the length of the changed array is odd, it can't be a doubled array\n",
    "\n",
    "    count = {}\n",
    "    changed.sort()\n",
    "\n",
    "    for num in changed:\n",
    "        if num not in count:\n",
    "            count[num] = 0\n",
    "        count[num] += 1\n",
    "\n",
    "    original = []\n",
    "\n",
    "    for num in changed:\n",
    "        if num not in count or count[num] == 0:\n",
    "            continue\n",
    "        count[num] -= 1\n",
    "        if 2 * num not in count or count[2 * num] == 0:\n",
    "            return []\n",
    "        count[2 * num] -= 1\n",
    "        original.append(num)\n",
    "\n",
    "    return original\n"
   ]
  },
  {
   "cell_type": "code",
   "execution_count": 7,
   "id": "e45288f0-f481-44c1-914d-c8fa19575585",
   "metadata": {},
   "outputs": [
    {
     "name": "stdout",
     "output_type": "stream",
     "text": [
      "[1, 3, 4]\n"
     ]
    }
   ],
   "source": [
    "changed = [1, 3, 4, 2, 6, 8]\n",
    "print(findOriginalArray(changed))"
   ]
  },
  {
   "cell_type": "markdown",
   "id": "e814a501-120f-41e9-8d3a-5b90ad68f450",
   "metadata": {},
   "source": [
    "<aside>\n",
    "💡 **Question 7**\n",
    "\n",
    "Given a positive integer n, generate an n x n matrix filled with elements from 1 to n2 in spiral order.\n",
    "\n",
    "**Example 1:**\n",
    "\n",
    "**Input:** n = 3\n",
    "\n",
    "**Output:** [[1,2,3],[8,9,4],[7,6,5]]\n",
    "\n",
    "</aside>"
   ]
  },
  {
   "cell_type": "code",
   "execution_count": 8,
   "id": "cfe6b6d1-ac27-40b5-9cff-758b44d3d030",
   "metadata": {},
   "outputs": [
    {
     "name": "stdout",
     "output_type": "stream",
     "text": [
      "[[1, 2, 3], [8, 9, 4], [7, 6, 5]]\n"
     ]
    }
   ],
   "source": [
    "def generateMatrix(n):\n",
    "    matrix = [[0] * n for _ in range(n)]\n",
    "    left, right, top, bottom = 0, n - 1, 0, n - 1\n",
    "    num, direction = 1, 0\n",
    "\n",
    "    while num <= n * n:\n",
    "        if direction == 0:  # move right\n",
    "            for col in range(left, right + 1):\n",
    "                matrix[top][col] = num\n",
    "                num += 1\n",
    "            top += 1\n",
    "        elif direction == 1:  # move down\n",
    "            for row in range(top, bottom + 1):\n",
    "                matrix[row][right] = num\n",
    "                num += 1\n",
    "            right -= 1\n",
    "        elif direction == 2:  # move left\n",
    "            for col in range(right, left - 1, -1):\n",
    "                matrix[bottom][col] = num\n",
    "                num += 1\n",
    "            bottom -= 1\n",
    "        elif direction == 3:  # move up\n",
    "            for row in range(bottom, top - 1, -1):\n",
    "                matrix[row][left] = num\n",
    "                num += 1\n",
    "            left += 1\n",
    "        direction = (direction + 1) % 4\n",
    "\n",
    "    return matrix\n",
    "n = 3\n",
    "result = generateMatrix(n)\n",
    "print(result)"
   ]
  },
  {
   "cell_type": "markdown",
   "id": "958bdf56-5dde-4364-8f4d-6e8bfcce0a96",
   "metadata": {},
   "source": [
    "<aside>\n",
    "💡 **Question 8**\n",
    "\n",
    "Given two [sparse matrices](https://en.wikipedia.org/wiki/Sparse_matrix) mat1 of size m x k and mat2 of size k x n, return the result of mat1 x mat2. You may assume that multiplication is always possible.\n",
    "\n",
    "**Example 1:**\n",
    "\n",
    "**Input:** mat1 = [[1,0,0],[-1,0,3]], mat2 = [[7,0,0],[0,0,0],[0,0,1]]\n",
    "\n",
    "**Output:**\n",
    "\n",
    "[[7,0,0],[-7,0,3]]\n",
    "\n",
    "</aside>"
   ]
  },
  {
   "cell_type": "code",
   "execution_count": 9,
   "id": "4cac4a02-e755-4ed0-8259-44e1ec7471d0",
   "metadata": {},
   "outputs": [
    {
     "name": "stdout",
     "output_type": "stream",
     "text": [
      "[[7, 0, 0], [-7, 0, 0]]\n"
     ]
    }
   ],
   "source": [
    "def multiply(mat1, mat2):\n",
    "    m = len(mat1)\n",
    "    k = len(mat1[0])\n",
    "    n = len(mat2[0])\n",
    "\n",
    "    result = [[0] * n for _ in range(m)]\n",
    "\n",
    "    for i in range(m):\n",
    "        for j in range(k):\n",
    "            if mat1[i][j] != 0:\n",
    "                for k in range(n):\n",
    "                    if mat2[j][k] != 0:\n",
    "                        result[i][k] += mat1[i][j] * mat2[j][k]\n",
    "\n",
    "    return result\n",
    "mat1 = [[1, 0, 0], [-1, 0, 3]]\n",
    "mat2 = [[7, 0, 0], [0, 0, 0], [0, 0, 1]]\n",
    "result = multiply(mat1, mat2)\n",
    "print(result)"
   ]
  }
 ],
 "metadata": {
  "kernelspec": {
   "display_name": "Python 3 (ipykernel)",
   "language": "python",
   "name": "python3"
  },
  "language_info": {
   "codemirror_mode": {
    "name": "ipython",
    "version": 3
   },
   "file_extension": ".py",
   "mimetype": "text/x-python",
   "name": "python",
   "nbconvert_exporter": "python",
   "pygments_lexer": "ipython3",
   "version": "3.10.6"
  }
 },
 "nbformat": 4,
 "nbformat_minor": 5
}
