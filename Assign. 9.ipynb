{
 "cells": [
  {
   "cell_type": "markdown",
   "id": "cd196d66-17ca-496b-a526-693b4abbf1ea",
   "metadata": {},
   "source": [
    "<aside>\n",
    "💡 **Question 1**\n",
    "\n",
    "Given an integer `n`, return *`true` if it is a power of two. Otherwise, return `false`*.\n",
    "\n",
    "An integer `n` is a power of two, if there exists an integer `x` such that `n == 2x`.\n",
    "\n",
    "**Example 1:**\n",
    "Input: n = 1 \n",
    "\n",
    "Output: true\n",
    "\n",
    "**Example 2:**\n",
    "Input: n = 16 \n",
    "\n",
    "Output: true\n",
    "\n",
    "**Example 3:**\n",
    "Input: n = 3 \n",
    "\n",
    "Output: false\n",
    "\n",
    "</aside>"
   ]
  },
  {
   "cell_type": "code",
   "execution_count": 1,
   "id": "dbe31854-15e9-40d0-9350-22118194463a",
   "metadata": {},
   "outputs": [
    {
     "name": "stdout",
     "output_type": "stream",
     "text": [
      "True\n",
      "True\n",
      "False\n"
     ]
    }
   ],
   "source": [
    "def is_power_of_two(n):\n",
    "    if n <= 0:\n",
    "        return False\n",
    "    return n & (n - 1) == 0\n",
    "print(is_power_of_two(1)) \n",
    "print(is_power_of_two(16))  \n",
    "print(is_power_of_two(3))  "
   ]
  },
  {
   "cell_type": "markdown",
   "id": "293f2a15-b401-475c-b00e-b2cd5091cf45",
   "metadata": {},
   "source": [
    "<aside>\n",
    "💡 **Question 2**\n",
    "\n",
    "Given a number n, find the sum of the first natural numbers.\n",
    "\n",
    "**Example 1:**\n",
    "\n",
    "Input: n = 3 \n",
    "\n",
    "Output: 6\n",
    "\n",
    "**Example 2:**\n",
    "\n",
    "Input  : 5 \n",
    "\n",
    "Output : 15\n",
    "\n",
    "</aside>"
   ]
  },
  {
   "cell_type": "code",
   "execution_count": 2,
   "id": "fbf667e3-33c0-45a4-9d1a-aabedc932073",
   "metadata": {},
   "outputs": [
    {
     "name": "stdout",
     "output_type": "stream",
     "text": [
      "6\n",
      "15\n"
     ]
    }
   ],
   "source": [
    "def sum_of_natural_numbers(n):\n",
    "    return (n * (n + 1)) // 2\n",
    "print(sum_of_natural_numbers(3)) \n",
    "print(sum_of_natural_numbers(5)) "
   ]
  },
  {
   "cell_type": "markdown",
   "id": "58d22dcf-f561-4ced-a93c-01c409f60172",
   "metadata": {},
   "source": [
    "<aside>\n",
    "💡 **Question 3**\n",
    "\n",
    "****Given a positive integer, N. Find the factorial of N. \n",
    "\n",
    "**Example 1:**\n",
    "\n",
    "Input: N = 5 \n",
    "\n",
    "Output: 120\n",
    "\n",
    "**Example 2:**\n",
    "\n",
    "Input: N = 4\n",
    "\n",
    "Output: 24\n",
    "\n",
    "</aside>"
   ]
  },
  {
   "cell_type": "code",
   "execution_count": 3,
   "id": "a486bfd0-8382-4c90-92e5-f78eb9ae5fdd",
   "metadata": {},
   "outputs": [
    {
     "name": "stdout",
     "output_type": "stream",
     "text": [
      "120\n",
      "24\n"
     ]
    }
   ],
   "source": [
    "def factorial(N):\n",
    "    factorial = 1\n",
    "    for i in range(1, N + 1):\n",
    "        factorial *= i\n",
    "    return factorial\n",
    "print(factorial(5))  \n",
    "print(factorial(4)) "
   ]
  },
  {
   "cell_type": "markdown",
   "id": "e6663d53-7df8-4b51-b0bb-e35a931300c3",
   "metadata": {},
   "source": [
    "<aside>\n",
    "💡 **Question 4**\n",
    "\n",
    "Given a number N and a power P, the task is to find the exponent of this number raised to the given power, i.e. N^P.\n",
    "\n",
    "**Example 1 :** \n",
    "\n",
    "Input: N = 5, P = 2\n",
    "\n",
    "Output: 25\n",
    "\n",
    "**Example 2 :**\n",
    "Input: N = 2, P = 5\n",
    "\n",
    "Output: 32\n",
    "\n",
    "</aside>"
   ]
  },
  {
   "cell_type": "code",
   "execution_count": 4,
   "id": "e4775a02-83ad-4149-a8f4-50b13caa8db4",
   "metadata": {},
   "outputs": [
    {
     "name": "stdout",
     "output_type": "stream",
     "text": [
      "25\n",
      "32\n"
     ]
    }
   ],
   "source": [
    "def exponent(N, P):\n",
    "    return N ** P\n",
    "print(exponent(5, 2))\n",
    "print(exponent(2, 5))"
   ]
  },
  {
   "cell_type": "markdown",
   "id": "6a5256d7-61df-4608-9393-34257ebf1759",
   "metadata": {},
   "source": [
    "<aside>\n",
    "💡 **Question 5**\n",
    "\n",
    "Given an array of integers **arr**, the task is to find maximum element of that array using recursion.\n",
    "\n",
    "**Example 1:**\n",
    "\n",
    "Input: arr = {1, 4, 3, -5, -4, 8, 6};\n",
    "Output: 8\n",
    "\n",
    "**Example 2:**\n",
    "\n",
    "Input: arr = {1, 4, 45, 6, 10, -8};\n",
    "Output: 45\n",
    "\n",
    "</aside>"
   ]
  },
  {
   "cell_type": "code",
   "execution_count": 5,
   "id": "d54fd037-7229-4016-8644-91875cd5ac2d",
   "metadata": {},
   "outputs": [
    {
     "name": "stdout",
     "output_type": "stream",
     "text": [
      "8\n",
      "45\n"
     ]
    }
   ],
   "source": [
    "def find_max(arr, left, right):\n",
    "    if left == right:\n",
    "        return arr[left]\n",
    "    mid = (left + right) // 2\n",
    "    max_left = find_max(arr, left, mid)\n",
    "    max_right = find_max(arr, mid + 1, right)\n",
    "    return max(max_left, max_right)\n",
    "\n",
    "\n",
    "def find_maximum(arr):\n",
    "    if not arr:\n",
    "        return None\n",
    "    return find_max(arr, 0, len(arr) - 1)\n",
    "arr1 = [1, 4, 3, -5, -4, 8, 6]\n",
    "print(find_maximum(arr1))  \n",
    "\n",
    "arr2 = [1, 4, 45, 6, 10, -8]\n",
    "print(find_maximum(arr2))"
   ]
  },
  {
   "cell_type": "markdown",
   "id": "2c7c876c-6b32-4f39-b9e7-000afda98ad7",
   "metadata": {},
   "source": [
    "<aside>\n",
    "💡 **Question 6**\n",
    "\n",
    "Given first term (a), common difference (d) and a integer N of the Arithmetic Progression series, the task is to find Nth term of the series.\n",
    "\n",
    "**Example 1:**\n",
    "\n",
    "Input : a = 2 d = 1 N = 5\n",
    "Output : 6\n",
    "The 5th term of the series is : 6\n",
    "\n",
    "**Example 2:**\n",
    "\n",
    "Input : a = 5 d = 2 N = 10\n",
    "Output : 23\n",
    "The 10th term of the series is : 23\n",
    "\n",
    "</aside>"
   ]
  },
  {
   "cell_type": "code",
   "execution_count": 6,
   "id": "3ef44bce-7109-4c0b-8d54-8187d35ce549",
   "metadata": {},
   "outputs": [
    {
     "name": "stdout",
     "output_type": "stream",
     "text": [
      "6\n",
      "23\n"
     ]
    }
   ],
   "source": [
    "def nth_term_of_ap(a, d, N):\n",
    "    nth_term = a + (N - 1) * d\n",
    "    return nth_term\n",
    "print(nth_term_of_ap(2, 1, 5)) \n",
    "print(nth_term_of_ap(5, 2, 10)) "
   ]
  },
  {
   "cell_type": "markdown",
   "id": "fb310716-68a9-438f-baf2-9a02cc398f23",
   "metadata": {},
   "source": [
    "<aside>\n",
    "💡 **Question 7**\n",
    "\n",
    "Given a string S, the task is to write a program to print all permutations of a given string.\n",
    "\n",
    "**Example 1:**\n",
    "\n",
    "***Input:***\n",
    "\n",
    "*S = “ABC”*\n",
    "\n",
    "***Output:***\n",
    "\n",
    "*“ABC”, “ACB”, “BAC”, “BCA”, “CBA”, “CAB”*\n",
    "\n",
    "**Example 2:**\n",
    "\n",
    "***Input:***\n",
    "\n",
    "*S = “XY”*\n",
    "\n",
    "***Output:***\n",
    "\n",
    "*“XY”, “YX”*\n",
    "\n",
    "</aside>"
   ]
  },
  {
   "cell_type": "code",
   "execution_count": 7,
   "id": "bf9e2e7a-738c-4904-b547-4fb41f7b045e",
   "metadata": {},
   "outputs": [
    {
     "name": "stdout",
     "output_type": "stream",
     "text": [
      "ABC\n",
      "ACB\n",
      "BAC\n",
      "BCA\n",
      "CBA\n",
      "CAB\n",
      "XY\n",
      "YX\n"
     ]
    }
   ],
   "source": [
    "def generate_permutations(S, start, permutations):\n",
    "    if start == len(S):\n",
    "        permutations.append(S)\n",
    "        return\n",
    "\n",
    "    for i in range(start, len(S)):\n",
    "        S_list = list(S)\n",
    "        S_list[start], S_list[i] = S_list[i], S_list[start]\n",
    "        new_string = ''.join(S_list)\n",
    "        generate_permutations(new_string, start + 1, permutations)\n",
    "        S_list[start], S_list[i] = S_list[i], S_list[start]\n",
    "\n",
    "def print_permutations(S):\n",
    "    permutations = []\n",
    "    generate_permutations(S, 0, permutations)\n",
    "    for permutation in permutations:\n",
    "        print(permutation)\n",
    "\n",
    "\n",
    "print_permutations(\"ABC\")\n",
    "print_permutations(\"XY\")\n"
   ]
  },
  {
   "cell_type": "markdown",
   "id": "d7fa35e3-5366-4911-bf24-559895a47852",
   "metadata": {},
   "source": [
    "<aside>\n",
    "💡 **Question 8**\n",
    "\n",
    "Given an array, find a product of all array elements.\n",
    "\n",
    "**Example 1:**\n",
    "\n",
    "Input  : arr[] = {1, 2, 3, 4, 5}\n",
    "Output : 120\n",
    "**Example 2:**\n",
    "\n",
    "Input  : arr[] = {1, 6, 3}\n",
    "Output : 18\n",
    "\n",
    "</aside>"
   ]
  },
  {
   "cell_type": "code",
   "execution_count": 8,
   "id": "9a2e83e8-519b-431b-9bb7-9862e3653a6d",
   "metadata": {},
   "outputs": [
    {
     "name": "stdout",
     "output_type": "stream",
     "text": [
      "120\n",
      "18\n"
     ]
    }
   ],
   "source": [
    "def array_product(arr):\n",
    "    product = 1\n",
    "    for num in arr:\n",
    "        product *= num\n",
    "    return product\n",
    "arr1 = [1, 2, 3, 4, 5]\n",
    "print(array_product(arr1))\n",
    "\n",
    "arr2 = [1, 6, 3]\n",
    "print(array_product(arr2))"
   ]
  }
 ],
 "metadata": {
  "kernelspec": {
   "display_name": "Python 3 (ipykernel)",
   "language": "python",
   "name": "python3"
  },
  "language_info": {
   "codemirror_mode": {
    "name": "ipython",
    "version": 3
   },
   "file_extension": ".py",
   "mimetype": "text/x-python",
   "name": "python",
   "nbconvert_exporter": "python",
   "pygments_lexer": "ipython3",
   "version": "3.10.6"
  }
 },
 "nbformat": 4,
 "nbformat_minor": 5
}
